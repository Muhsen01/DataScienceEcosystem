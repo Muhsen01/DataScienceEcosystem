{
 "cells": [
  {
   "cell_type": "markdown",
   "id": "b93c3f46-520c-44fd-a82a-70015c57154f",
   "metadata": {},
   "source": [
    "# Data Science Tools and Ecosystem"
   ]
  },
  {
   "cell_type": "markdown",
   "id": "9f090467-e550-4cf4-86eb-cc2d14516cee",
   "metadata": {},
   "source": [
    "_In this notebook, Data Science Tools and Ecosystem are summarized._"
   ]
  },
  {
   "cell_type": "markdown",
   "id": "9e6095fd-5861-4a29-9e46-367f0abbe188",
   "metadata": {},
   "source": [
    "## Objectives:\n",
    "* SQL\n",
    "* Python\n",
    "* Julia\n",
    "* R\n",
    "* Java"
   ]
  },
  {
   "cell_type": "markdown",
   "id": "9120e207-fb34-4b5f-9cda-7558b62d03bc",
   "metadata": {},
   "source": [
    "**Some of the popular languages that Data Scientists use are:**\n",
    "1. Python\n",
    "2. SQL\n",
    "3. R\n",
    "4. Java"
   ]
  },
  {
   "cell_type": "markdown",
   "id": "200eab8d-324d-4cee-a64d-0452bae9ff59",
   "metadata": {},
   "source": [
    "**Some of the commonly used libraries used by Data Scientists include:**\n",
    "\n",
    "1. Pandas\n",
    "2. NumPy\n",
    "3. TensorFlow\n",
    "4. SciPy"
   ]
  },
  {
   "cell_type": "markdown",
   "id": "3bb399c4-17de-4ddc-b5a0-d952f3bd846f",
   "metadata": {},
   "source": [
    "|Data Science Tools|\n",
    "|-----------------|\n",
    "|RStudio|\n",
    "|VS Code|\n",
    "|Apche Spark|\n",
    "\n"
   ]
  },
  {
   "cell_type": "markdown",
   "id": "235d4694-6fb6-4472-a1ed-9a48bdfaf5a0",
   "metadata": {
    "tags": []
   },
   "source": [
    "### Below are a few examples of evaluating arithmetic expressions in Python ###"
   ]
  },
  {
   "cell_type": "code",
   "execution_count": 8,
   "id": "c3400198-0e6b-4129-8c7d-8424cb0931c5",
   "metadata": {
    "tags": []
   },
   "outputs": [
    {
     "data": {
      "text/plain": [
       "17"
      ]
     },
     "execution_count": 8,
     "metadata": {},
     "output_type": "execute_result"
    }
   ],
   "source": [
    "# This a simple arithmetic expression to mutiply then add integers\n",
    "\n",
    "(3*4)+5"
   ]
  },
  {
   "cell_type": "code",
   "execution_count": 9,
   "id": "4a9a39be-874a-4a50-9fe2-2975d773056c",
   "metadata": {
    "tags": []
   },
   "outputs": [
    {
     "data": {
      "text/plain": [
       "3.3333333333333335"
      ]
     },
     "execution_count": 9,
     "metadata": {},
     "output_type": "execute_result"
    }
   ],
   "source": [
    "# This will convert 200 minutes to hours by diving by 60\n",
    "\n",
    "200/60"
   ]
  },
  {
   "cell_type": "markdown",
   "id": "5fe24bdb-bc6f-44dd-96af-b4e485dfafe4",
   "metadata": {},
   "source": [
    "## Author\n",
    "Muhsen AbuMuhsen"
   ]
  },
  {
   "cell_type": "code",
   "execution_count": null,
   "id": "746cbb62-b7a7-4576-aa2e-6dfc32d25cff",
   "metadata": {},
   "outputs": [],
   "source": []
  }
 ],
 "metadata": {
  "kernelspec": {
   "display_name": "Python",
   "language": "python",
   "name": "conda-env-python-py"
  },
  "language_info": {
   "codemirror_mode": {
    "name": "ipython",
    "version": 3
   },
   "file_extension": ".py",
   "mimetype": "text/x-python",
   "name": "python",
   "nbconvert_exporter": "python",
   "pygments_lexer": "ipython3",
   "version": "3.7.12"
  }
 },
 "nbformat": 4,
 "nbformat_minor": 5
}
